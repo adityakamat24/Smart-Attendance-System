{
 "cells": [
  {
   "cell_type": "code",
   "execution_count": 7,
   "metadata": {},
   "outputs": [
    {
     "name": "stdout",
     "output_type": "stream",
     "text": [
      "Enter roll number: 5\n"
     ]
    }
   ],
   "source": [
    "import cv2\n",
    "import os\n",
    "id_person=input(\"Enter roll number: \")\n",
    "cap=cv2.VideoCapture(0)\n",
    "\n",
    "for i in range (0,50):\n",
    "    ret, img = cap.read()\n",
    "    cv2.imshow(\"Webcam Frame\", img)\n",
    "    newpath = \"face dataset/\"+str(id_person)\n",
    "    if not os.path.exists(newpath):\n",
    "        os.makedirs(newpath)\n",
    "    cv2.imwrite(\"face dataset/\"+str(id_person)+\"/\"+str(id_person)+\"_\"+str(i)+\".png\",img)\n",
    "    cv2.waitKey(1)\n",
    "cap.release()\n",
    "cv2.destroyAllWindows()"
   ]
  }
 ],
 "metadata": {
  "kernelspec": {
   "display_name": "Python 3 (ipykernel)",
   "language": "python",
   "name": "python3"
  },
  "language_info": {
   "codemirror_mode": {
    "name": "ipython",
    "version": 3
   },
   "file_extension": ".py",
   "mimetype": "text/x-python",
   "name": "python",
   "nbconvert_exporter": "python",
   "pygments_lexer": "ipython3",
   "version": "3.9.12"
  }
 },
 "nbformat": 4,
 "nbformat_minor": 4
}
